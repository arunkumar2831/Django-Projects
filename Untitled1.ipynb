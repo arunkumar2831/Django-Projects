{
  "nbformat": 4,
  "nbformat_minor": 0,
  "metadata": {
    "colab": {
      "provenance": [],
      "toc_visible": true,
      "authorship_tag": "ABX9TyOsRnJfpTuQuy47kW/ILycI",
      "include_colab_link": true
    },
    "kernelspec": {
      "name": "python3",
      "display_name": "Python 3"
    },
    "language_info": {
      "name": "python"
    }
  },
  "cells": [
    {
      "cell_type": "markdown",
      "metadata": {
        "id": "view-in-github",
        "colab_type": "text"
      },
      "source": [
        "<a href=\"https://colab.research.google.com/github/arunkumar2831/Django-Projects/blob/main/Untitled1.ipynb\" target=\"_parent\"><img src=\"https://colab.research.google.com/assets/colab-badge.svg\" alt=\"Open In Colab\"/></a>"
      ]
    },
    {
      "cell_type": "markdown",
      "source": [
        "###Table"
      ],
      "metadata": {
        "id": "33r0UE0uau0M"
      }
    },
    {
      "cell_type": "markdown",
      "source": [
        "This code used for creating a table in the html document"
      ],
      "metadata": {
        "id": "G00rwEd_anB_"
      }
    },
    {
      "cell_type": "code",
      "execution_count": null,
      "metadata": {
        "id": "ldDYs5GVaY7Y"
      },
      "outputs": [],
      "source": [
        " $(document).ready(function () {\n",
        "            var tooltipTriggerList = [].slice.call(document.querySelectorAll('[data-bs-toggle=\"tooltip\"]'))\n",
        "            var tooltipList = tooltipTriggerList.map(function (tooltipTriggerEl) {\n",
        "                return new bootstrap.Tooltip(tooltipTriggerEl)\n",
        "\n",
        "            });\n",
        "\n",
        "        });"
      ]
    },
    {
      "cell_type": "markdown",
      "source": [
        "### Popup"
      ],
      "metadata": {
        "id": "suLot3Vra4FG"
      }
    },
    {
      "cell_type": "markdown",
      "source": [
        "please use below code for popup"
      ],
      "metadata": {
        "id": "-asa4rk2a7NG"
      }
    },
    {
      "cell_type": "code",
      "source": [
        ".class{\n",
        "    width:100px\n",
        "    height:200px\n",
        "}"
      ],
      "metadata": {
        "id": "4jgk0elNa--X"
      },
      "execution_count": null,
      "outputs": []
    }
  ]
}